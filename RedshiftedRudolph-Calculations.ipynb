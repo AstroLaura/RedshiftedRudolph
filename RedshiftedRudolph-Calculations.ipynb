{
 "cells": [
  {
   "cell_type": "markdown",
   "id": "a00b34cf-feae-465d-b439-bfe14158d626",
   "metadata": {},
   "source": [
    "# Rudolph the redshifted reindeer - how going fast changes the colour of your nose\n",
    "\n",
    "This code demonstrates the calculations used to model the speed at which Father Christmas and his reindeer must travel to deliver all presents before kids wake up on Christmas Day."
   ]
  },
  {
   "cell_type": "code",
   "execution_count": 1,
   "id": "d9ef8812-ba18-49b8-b9ed-9bd0a97b2924",
   "metadata": {},
   "outputs": [],
   "source": [
    "# Import the required packages\n",
    "import numpy as np\n",
    "\n",
    "from astropy.time import Time # https://docs.astropy.org/en/stable/time/index.html\n",
    "from astropy import units as un # https://www.astropy.org/\n",
    "from astropy import constants as const # https://docs.astropy.org/en/stable/constants/index.html"
   ]
  },
  {
   "cell_type": "markdown",
   "id": "77e0e5f2-9f71-426f-a412-54c4193b2674",
   "metadata": {},
   "source": [
    "We start by calculating the approximate number of children in the world who believe in Father Christmas. This is based on the assumptions in the Conversation article."
   ]
  },
  {
   "cell_type": "code",
   "execution_count": 2,
   "id": "fe5957e2-cc31-4ebf-a811-c0c3949518c6",
   "metadata": {},
   "outputs": [
    {
     "name": "stdout",
     "output_type": "stream",
     "text": [
      "Approximate number of kids who believe in Father Christmas: 6.91e+08\n"
     ]
    }
   ],
   "source": [
    "number_of_kids = 2000000000 # 2 billion kids in the world under 14 years old\n",
    "number_of_kids = number_of_kids * 0.93 # 93% of countries observe Christmas in some way \n",
    "                                       # https://en.wikipedia.org/wiki/Observance_of_Christmas_by_country\n",
    "number_of_kids_per_age = number_of_kids / 14 # We assume that there is an equal number of kids\n",
    "                                             # per year of age. This is likely and over-simplification\n",
    "# 85% of kids under four, 65% of kids under 6 and 25% of kids under 8 (in the USA)\n",
    "# still belive in Father Christmas. We assume that kids over 8 no longer believe\n",
    "# https://edition.cnn.com/2017/12/19/health/kids-santa-claus-belief-parent-curve-intl/index.html\n",
    "number_of_kids = (((4 * number_of_kids_per_age) * 0.85) + \n",
    "                  ((2 * number_of_kids_per_age) * 0.65) + \n",
    "                  ((2 * number_of_kids_per_age) * 0.25))\n",
    "print(F'Approximate number of kids who believe in Father Christmas: {number_of_kids:.2e}')"
   ]
  },
  {
   "cell_type": "code",
   "execution_count": 3,
   "id": "bcb22ff3-1e0e-4ec1-8128-ef9148a6f5d1",
   "metadata": {},
   "outputs": [
    {
     "name": "stdout",
     "output_type": "stream",
     "text": [
      "Approximate number of households with kids who believe in Father Christmas: 3.00e+08\n"
     ]
    }
   ],
   "source": [
    "# There are approximately 2.3 kids per household in the world\n",
    "# https://www.aaastateofplay.com/which-world-countries-have-the-most-and-least-children-per-family/#:~:text=Based%20on%20the%20data%20from,Middle%20East%20%26%20North%20Africa%3A%202.6\n",
    "households_with_kids = number_of_kids / 2.3\n",
    "print(F'Approximate number of households with kids who believe in Father Christmas: {households_with_kids:.2e}')"
   ]
  },
  {
   "cell_type": "markdown",
   "id": "443c38db-db00-4964-bd8e-a5f24639a35c",
   "metadata": {},
   "source": [
    "We now need to calculate the total habitable surface area of the Earth. We are assuming that households on Earth are distrinuted equally over the surface area of the Earth, this is an over-simplification."
   ]
  },
  {
   "cell_type": "code",
   "execution_count": 4,
   "id": "c10c8303-b889-454e-9cb0-ad7c5a83c8b4",
   "metadata": {},
   "outputs": [
    {
     "name": "stdout",
     "output_type": "stream",
     "text": [
      "Approximate surface area of the habitable land on Earth: 6.93e+07 km2\n"
     ]
    }
   ],
   "source": [
    "earth_surface_area = 510e6 * un.km**2\n",
    "earth_land_area = earth_surface_area * 0.29 # 29% of the Earth's total surface area is land\n",
    "                                            # the rest is water\n",
    "desert = earth_land_area * 0.33 # includes Antarctica\n",
    "mountains = 29788205 * un.km**2\n",
    "habitable_surface_area = earth_land_area - (desert + mountains)\n",
    "print(F'Approximate surface area of the habitable land on Earth: {habitable_surface_area:.2e}')"
   ]
  },
  {
   "cell_type": "markdown",
   "id": "8a0bd184-32ba-4e39-a742-919876bce599",
   "metadata": {},
   "source": [
    "Now we need to calculate the distance Father Christmas needs to travel. I followed the method of Arnold Pompos, Purdue University, and Sharon Butler, Office of Public Affairs. \n",
    "https://www.fnal.gov/pub/ferminews/santa/"
   ]
  },
  {
   "cell_type": "code",
   "execution_count": 7,
   "id": "f47210fd-8276-4e70-af1a-0f95019bf294",
   "metadata": {},
   "outputs": [
    {
     "name": "stdout",
     "output_type": "stream",
     "text": [
      "Distance Father Christmas needs to travel: 1.442819e+08 km\n",
      "Distance between the Earth and the Sun: 1.495979e+08 km\n"
     ]
    }
   ],
   "source": [
    "area_occupied_per_household = habitable_surface_area / households_with_kids\n",
    "distance_between_households = np.sqrt(area_occupied_per_household)\n",
    "distance_fc_travels = distance_between_households * households_with_kids\n",
    "print(F'Distance Father Christmas needs to travel: {distance_fc_travels:2e}')\n",
    "earth_sun_distance = (1.0 * un.AU).to('km')\n",
    "print(F'Distance between the Earth and the Sun: {earth_sun_distance:2e}')"
   ]
  },
  {
   "cell_type": "markdown",
   "id": "5fa23aef-f36e-4192-894e-079a40b13424",
   "metadata": {},
   "source": [
    "Next, we need to calculate how long Father Christmas has to deliver these presents"
   ]
  },
  {
   "cell_type": "code",
   "execution_count": 10,
   "id": "0d06fcfd-47ca-4a11-8f1b-0b7f47652999",
   "metadata": {},
   "outputs": [
    {
     "name": "stdout",
     "output_type": "stream",
     "text": [
      "Time from when the first kids go to sleep to when the last kids wake up: 35.0 h\n",
      "Time Father Christmas has to deliver presents: 17.5 h\n"
     ]
    }
   ],
   "source": [
    "t0 = Time('2024-12-24T07:00:00') # 9:00pm 24th December (Christmas Eve) Line Islands, Kiribati\n",
    "t1 = Time('2024-12-25T18:0:00') # 6:00am 25th December (Christmas Day) Howland Island\n",
    "time_over_night = (t1 - t0).to('hour')\n",
    "print('Time from when the first kids go to sleep to when the last kids wake up:', time_over_night)\n",
    "# Allowing for delivery time\n",
    "time_to_deliver = time_over_night / 2\n",
    "print('Time Father Christmas has to deliver presents:', time_to_deliver)"
   ]
  },
  {
   "cell_type": "markdown",
   "id": "d21f6569-6dbc-46fb-96ba-42b4d0f141a5",
   "metadata": {},
   "source": [
    "And now we can calculate Father Christmas' speed"
   ]
  },
  {
   "cell_type": "code",
   "execution_count": 11,
   "id": "b050788e-c334-4502-8b7e-a1212811f19e",
   "metadata": {},
   "outputs": [
    {
     "name": "stdout",
     "output_type": "stream",
     "text": [
      "Hypothesised speed at which Father Christmas travels: 8.24e+06 km / h\n"
     ]
    }
   ],
   "source": [
    "# Use speed = distance / time\n",
    "fc_speed = distance_fc_travels / time_to_deliver\n",
    "print(F'Hypothesised speed at which Father Christmas travels: {fc_speed:.2e}')"
   ]
  },
  {
   "cell_type": "markdown",
   "id": "87a03246-608f-459e-8468-acfaeedfab23",
   "metadata": {},
   "source": [
    "# Calculating redshift\n",
    "\n",
    "These are the equations I used to calculate the blueshifted and redshifted colour of Rudolph's nose. We assume that Rudolph's nose at rest (when he's standing still) is ruby red with a wavelength of 694.3 nanometres (nm).\n",
    "\n",
    "I used [this tool](https://academo.org/demos/wavelength-to-colour-relationship/) to convert the wavelength into hex codes to colour Rudolph's nose in the diagram in the article."
   ]
  },
  {
   "cell_type": "code",
   "execution_count": 14,
   "id": "328c3097-a2f8-4b53-bf00-fc853701cff2",
   "metadata": {},
   "outputs": [
    {
     "name": "stdout",
     "output_type": "stream",
     "text": [
      "Blueshifted wavelength of Rudolph's nose: 624.9 nm\n",
      "Redshifted wavelength of Rudolph's nose: 763.7 nm\n"
     ]
    }
   ],
   "source": [
    "v = const.c * 0.1 # 1% of the speed of light, c\n",
    "lam = 694.3 * un.nm # ruby red\n",
    "\n",
    "blueshift = ((((-1*v) * lam) / const.c) + lam).to('nm')\n",
    "print(F'Blueshifted wavelength of Rudolph\\'s nose: {blueshift:.1f}')\n",
    "\n",
    "redshift = (((v * lam) / const.c) + lam).to('nm')\n",
    "print(F'Redshifted wavelength of Rudolph\\'s nose: {redshift:.1f}')"
   ]
  },
  {
   "cell_type": "markdown",
   "id": "8876c044-09e0-4142-a083-e5077004910e",
   "metadata": {},
   "source": [
    "And we can do the same for the de-saturated orange I used for his fur and antlers."
   ]
  },
  {
   "cell_type": "code",
   "execution_count": 16,
   "id": "30377d3b-7f48-4556-8e08-31a1f5f2d50c",
   "metadata": {},
   "outputs": [
    {
     "name": "stdout",
     "output_type": "stream",
     "text": [
      "Blueshifted wavelength of Rudolph's fur: 558.0 nm\n",
      "Redshifted wavelength of Rudolph's fur: 682.0 nm\n"
     ]
    }
   ],
   "source": [
    "v = const.c * 0.1 # 1% of the speed of light, c\n",
    "lam = 620 * un.nm # kind of brown\n",
    "\n",
    "blueshift = ((((-1*v) * lam) / const.c) + lam).to('nm')\n",
    "print(F'Blueshifted wavelength of Rudolph\\'s fur: {blueshift:.1f}')\n",
    "\n",
    "redshift = (((v * lam) / const.c) + lam).to('nm')\n",
    "print(F'Redshifted wavelength of Rudolph\\'s fur: {redshift:.1f}')"
   ]
  },
  {
   "cell_type": "code",
   "execution_count": null,
   "id": "9a8238a4-53e6-49e7-acb2-7d8875f59de5",
   "metadata": {},
   "outputs": [],
   "source": []
  }
 ],
 "metadata": {
  "kernelspec": {
   "display_name": "Python 3 (ipykernel)",
   "language": "python",
   "name": "python3"
  },
  "language_info": {
   "codemirror_mode": {
    "name": "ipython",
    "version": 3
   },
   "file_extension": ".py",
   "mimetype": "text/x-python",
   "name": "python",
   "nbconvert_exporter": "python",
   "pygments_lexer": "ipython3",
   "version": "3.10.14"
  }
 },
 "nbformat": 4,
 "nbformat_minor": 5
}
